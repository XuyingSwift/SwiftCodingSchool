{
 "cells": [
  {
   "cell_type": "markdown",
   "id": "bb36f749-ec0a-4b03-ac7b-9e165cba18a4",
   "metadata": {},
   "source": [
    "Definition of ML\n",
    "1: Machine Learning is the science of programming computers so they can learn from data.\n",
    "2: A computer program is said to learn from experience E with respect to some task T and some performance measure P if its performance on T, as measured  by P, improves with experience E. \n",
    "3: Data mining: applying ML techniques to dig into large amounts of data can help discover patterns that were not immediately apparent. "
   ]
  },
  {
   "cell_type": "markdown",
   "id": "9f339729-a3c0-495f-862c-c05b93265236",
   "metadata": {},
   "source": [
    "Types of ML systems:\n",
    "1: whether or not they are trained with human supervision (supervised, unsupervised, semisupervised, and reinforcement learning).\n",
    "2: whether or not they can learn incrementally on the fly (online and batch learning)\n",
    "3: whether or not they work by simply comparing new data points to known data points, or instead detect patterns in the training data and build a predictive model, much like scientists do (instance-based and model based learning)"
   ]
  },
  {
   "cell_type": "markdown",
   "id": "a4a44a63-8175-499e-a12c-a441ece32f73",
   "metadata": {},
   "source": [
    "Supervised Learning: the training data you feed to the algorithm includes the desired solutions, called labels. \n",
    "learning task 1: classification\n",
    "learning task 2: predict a target numeric value such as the price of a car.\n",
    "Unsupervised learning: training data is unlabeled. \n",
    "feature extraction, anomaly detection, and association rule learning.\n",
    "Semisupervised learning: deals with partially labeled training data, usually a lot of unlabeled data, and a little bit of labeled data.\n",
    "Reinforcement learning: an agent can observe the environment, select and perform actions, and get rewards in return. It must then learn by itself what is the best strategy, called a policy, to get the most reward over time. A policy defines what action the agent should choose when it is in a given situation. "
   ]
  },
  {
   "cell_type": "markdown",
   "id": "8fe5a132-3cbc-4bd2-a576-2f6f45e431f3",
   "metadata": {},
   "source": [
    "Batch and online learning:\n",
    "Batch learning: the system is incapable of learning incrementally: it must be trained using all the available data. \n",
    "Online learning: you train the system incrementally by feeding it data instances sequentially, either individually or by small groups called mini-batches. Each learning step is fast and cheap, so the system can learn about new data on the fly, as it arrives."
   ]
  },
  {
   "cell_type": "markdown",
   "id": "d442445a-6f9a-4846-a3af-e4ecfb2d7ff9",
   "metadata": {},
   "source": [
    "Instance-based learning: \n",
    "the system learns the examples by heart, then generalizes to new cases uisng a similarity measure.    "
   ]
  }
 ],
 "metadata": {
  "kernelspec": {
   "display_name": "Python 3 (ipykernel)",
   "language": "python",
   "name": "python3"
  },
  "language_info": {
   "codemirror_mode": {
    "name": "ipython",
    "version": 3
   },
   "file_extension": ".py",
   "mimetype": "text/x-python",
   "name": "python",
   "nbconvert_exporter": "python",
   "pygments_lexer": "ipython3",
   "version": "3.11.6"
  }
 },
 "nbformat": 4,
 "nbformat_minor": 5
}
